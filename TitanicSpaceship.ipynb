{
 "cells": [
  {
   "cell_type": "code",
   "execution_count": 1,
   "id": "45965c20",
   "metadata": {
    "_cell_guid": "b1076dfc-b9ad-4769-8c92-a6c4dae69d19",
    "_uuid": "8f2839f25d086af736a60e9eeb907d3b93b6e0e5",
    "execution": {
     "iopub.execute_input": "2022-12-06T20:09:16.327050Z",
     "iopub.status.busy": "2022-12-06T20:09:16.326196Z",
     "iopub.status.idle": "2022-12-06T20:09:17.506935Z",
     "shell.execute_reply": "2022-12-06T20:09:17.505997Z"
    },
    "papermill": {
     "duration": 1.19139,
     "end_time": "2022-12-06T20:09:17.510880",
     "exception": false,
     "start_time": "2022-12-06T20:09:16.319490",
     "status": "completed"
    },
    "tags": []
   },
   "outputs": [
    {
     "name": "stdout",
     "output_type": "stream",
     "text": [
      "/kaggle/input/spaceship-titanic/sample_submission.csv\n",
      "/kaggle/input/spaceship-titanic/train.csv\n",
      "/kaggle/input/spaceship-titanic/test.csv\n"
     ]
    }
   ],
   "source": [
    "# This Python 3 environment comes with many helpful analytics libraries installed\n",
    "# It is defined by the kaggle/python Docker image: https://github.com/kaggle/docker-python\n",
    "# For example, here's several helpful packages to load\n",
    "import sklearn\n",
    "import numpy as np # linear algebra\n",
    "import pandas as pd # data processing, CSV file I/O (e.g. pd.read_csv)\n",
    "# Input data files are available in the read-only \"../input/\" directory\n",
    "# For example, running this (by clicking run or pressing Shift+Enter) will list all files under the input directory\n",
    "\n",
    "import os\n",
    "for dirname, _, filenames in os.walk('/kaggle/input'):\n",
    "    for filename in filenames:\n",
    "        print(os.path.join(dirname, filename))\n",
    "\n",
    "# You can write up to 20GB to the current directory (/kaggle/working/) that gets preserved as output when you create a version using \"Save & Run All\" \n",
    "# You can also write temporary files to /kaggle/temp/, but they won't be saved outside of the current session"
   ]
  },
  {
   "cell_type": "code",
   "execution_count": null,
   "id": "add47db7",
   "metadata": {
    "papermill": {
     "duration": 0.004103,
     "end_time": "2022-12-06T20:09:17.519937",
     "exception": false,
     "start_time": "2022-12-06T20:09:17.515834",
     "status": "completed"
    },
    "tags": []
   },
   "outputs": [],
   "source": []
  },
  {
   "cell_type": "code",
   "execution_count": 2,
   "id": "af64d98e",
   "metadata": {
    "execution": {
     "iopub.execute_input": "2022-12-06T20:09:17.530041Z",
     "iopub.status.busy": "2022-12-06T20:09:17.529655Z",
     "iopub.status.idle": "2022-12-06T20:09:17.640194Z",
     "shell.execute_reply": "2022-12-06T20:09:17.638835Z"
    },
    "papermill": {
     "duration": 0.118658,
     "end_time": "2022-12-06T20:09:17.642855",
     "exception": false,
     "start_time": "2022-12-06T20:09:17.524197",
     "status": "completed"
    },
    "tags": []
   },
   "outputs": [
    {
     "data": {
      "text/html": [
       "<div>\n",
       "<style scoped>\n",
       "    .dataframe tbody tr th:only-of-type {\n",
       "        vertical-align: middle;\n",
       "    }\n",
       "\n",
       "    .dataframe tbody tr th {\n",
       "        vertical-align: top;\n",
       "    }\n",
       "\n",
       "    .dataframe thead th {\n",
       "        text-align: right;\n",
       "    }\n",
       "</style>\n",
       "<table border=\"1\" class=\"dataframe\">\n",
       "  <thead>\n",
       "    <tr style=\"text-align: right;\">\n",
       "      <th></th>\n",
       "      <th>PassengerId</th>\n",
       "      <th>Transported</th>\n",
       "    </tr>\n",
       "  </thead>\n",
       "  <tbody>\n",
       "    <tr>\n",
       "      <th>0</th>\n",
       "      <td>0013_01</td>\n",
       "      <td>False</td>\n",
       "    </tr>\n",
       "    <tr>\n",
       "      <th>1</th>\n",
       "      <td>0018_01</td>\n",
       "      <td>False</td>\n",
       "    </tr>\n",
       "    <tr>\n",
       "      <th>2</th>\n",
       "      <td>0019_01</td>\n",
       "      <td>False</td>\n",
       "    </tr>\n",
       "    <tr>\n",
       "      <th>3</th>\n",
       "      <td>0021_01</td>\n",
       "      <td>False</td>\n",
       "    </tr>\n",
       "    <tr>\n",
       "      <th>4</th>\n",
       "      <td>0023_01</td>\n",
       "      <td>False</td>\n",
       "    </tr>\n",
       "  </tbody>\n",
       "</table>\n",
       "</div>"
      ],
      "text/plain": [
       "  PassengerId  Transported\n",
       "0     0013_01        False\n",
       "1     0018_01        False\n",
       "2     0019_01        False\n",
       "3     0021_01        False\n",
       "4     0023_01        False"
      ]
     },
     "execution_count": 2,
     "metadata": {},
     "output_type": "execute_result"
    }
   ],
   "source": [
    "train_full = pd.read_csv('/kaggle/input/spaceship-titanic/train.csv')\n",
    "test_full = pd.read_csv('/kaggle/input/spaceship-titanic/test.csv')\n",
    "sample_sumbission = pd.read_csv('/kaggle/input/spaceship-titanic/sample_submission.csv')\n",
    "\n",
    "train_X = train_full.drop(columns = ['Transported','Name','Cabin'])\n",
    "train_Y = train_full.loc[:,['Transported','PassengerId']]\n",
    "\n",
    "sample_sumbission.head()\n"
   ]
  },
  {
   "cell_type": "code",
   "execution_count": 3,
   "id": "3c3e62fb",
   "metadata": {
    "execution": {
     "iopub.execute_input": "2022-12-06T20:09:17.654106Z",
     "iopub.status.busy": "2022-12-06T20:09:17.653717Z",
     "iopub.status.idle": "2022-12-06T20:09:17.694746Z",
     "shell.execute_reply": "2022-12-06T20:09:17.693382Z"
    },
    "papermill": {
     "duration": 0.04928,
     "end_time": "2022-12-06T20:09:17.697062",
     "exception": false,
     "start_time": "2022-12-06T20:09:17.647782",
     "status": "completed"
    },
    "tags": []
   },
   "outputs": [
    {
     "name": "stdout",
     "output_type": "stream",
     "text": [
      "HomePlanet      0\n",
      "CryoSleep       0\n",
      "Destination     0\n",
      "Age             0\n",
      "VIP             0\n",
      "RoomService     0\n",
      "FoodCourt       0\n",
      "ShoppingMall    0\n",
      "Spa             0\n",
      "VRDeck          0\n",
      "dtype: int64\n",
      "29\n",
      "HomePlanet       object\n",
      "CryoSleep          bool\n",
      "Destination      object\n",
      "Age             float64\n",
      "VIP                bool\n",
      "RoomService     float64\n",
      "FoodCourt       float64\n",
      "ShoppingMall    float64\n",
      "Spa             float64\n",
      "VRDeck          float64\n",
      "dtype: object\n"
     ]
    },
    {
     "data": {
      "text/html": [
       "<div>\n",
       "<style scoped>\n",
       "    .dataframe tbody tr th:only-of-type {\n",
       "        vertical-align: middle;\n",
       "    }\n",
       "\n",
       "    .dataframe tbody tr th {\n",
       "        vertical-align: top;\n",
       "    }\n",
       "\n",
       "    .dataframe thead th {\n",
       "        text-align: right;\n",
       "    }\n",
       "</style>\n",
       "<table border=\"1\" class=\"dataframe\">\n",
       "  <thead>\n",
       "    <tr style=\"text-align: right;\">\n",
       "      <th></th>\n",
       "      <th>HomePlanet</th>\n",
       "      <th>CryoSleep</th>\n",
       "      <th>Destination</th>\n",
       "      <th>Age</th>\n",
       "      <th>VIP</th>\n",
       "      <th>RoomService</th>\n",
       "      <th>FoodCourt</th>\n",
       "      <th>ShoppingMall</th>\n",
       "      <th>Spa</th>\n",
       "      <th>VRDeck</th>\n",
       "    </tr>\n",
       "    <tr>\n",
       "      <th>PassengerId</th>\n",
       "      <th></th>\n",
       "      <th></th>\n",
       "      <th></th>\n",
       "      <th></th>\n",
       "      <th></th>\n",
       "      <th></th>\n",
       "      <th></th>\n",
       "      <th></th>\n",
       "      <th></th>\n",
       "      <th></th>\n",
       "    </tr>\n",
       "  </thead>\n",
       "  <tbody>\n",
       "    <tr>\n",
       "      <th>0001_01</th>\n",
       "      <td>Europa</td>\n",
       "      <td>False</td>\n",
       "      <td>TRAPPIST-1e</td>\n",
       "      <td>39.0</td>\n",
       "      <td>False</td>\n",
       "      <td>0.0</td>\n",
       "      <td>0.0</td>\n",
       "      <td>0.0</td>\n",
       "      <td>0.0</td>\n",
       "      <td>0.0</td>\n",
       "    </tr>\n",
       "    <tr>\n",
       "      <th>0002_01</th>\n",
       "      <td>Earth</td>\n",
       "      <td>False</td>\n",
       "      <td>TRAPPIST-1e</td>\n",
       "      <td>24.0</td>\n",
       "      <td>False</td>\n",
       "      <td>109.0</td>\n",
       "      <td>9.0</td>\n",
       "      <td>25.0</td>\n",
       "      <td>549.0</td>\n",
       "      <td>44.0</td>\n",
       "    </tr>\n",
       "    <tr>\n",
       "      <th>0003_01</th>\n",
       "      <td>Europa</td>\n",
       "      <td>False</td>\n",
       "      <td>TRAPPIST-1e</td>\n",
       "      <td>58.0</td>\n",
       "      <td>True</td>\n",
       "      <td>43.0</td>\n",
       "      <td>3576.0</td>\n",
       "      <td>0.0</td>\n",
       "      <td>6715.0</td>\n",
       "      <td>49.0</td>\n",
       "    </tr>\n",
       "    <tr>\n",
       "      <th>0003_02</th>\n",
       "      <td>Europa</td>\n",
       "      <td>False</td>\n",
       "      <td>TRAPPIST-1e</td>\n",
       "      <td>33.0</td>\n",
       "      <td>False</td>\n",
       "      <td>0.0</td>\n",
       "      <td>1283.0</td>\n",
       "      <td>371.0</td>\n",
       "      <td>3329.0</td>\n",
       "      <td>193.0</td>\n",
       "    </tr>\n",
       "    <tr>\n",
       "      <th>0004_01</th>\n",
       "      <td>Earth</td>\n",
       "      <td>False</td>\n",
       "      <td>TRAPPIST-1e</td>\n",
       "      <td>16.0</td>\n",
       "      <td>False</td>\n",
       "      <td>303.0</td>\n",
       "      <td>70.0</td>\n",
       "      <td>151.0</td>\n",
       "      <td>565.0</td>\n",
       "      <td>2.0</td>\n",
       "    </tr>\n",
       "  </tbody>\n",
       "</table>\n",
       "</div>"
      ],
      "text/plain": [
       "            HomePlanet  CryoSleep  Destination   Age    VIP  RoomService  \\\n",
       "PassengerId                                                                \n",
       "0001_01         Europa      False  TRAPPIST-1e  39.0  False          0.0   \n",
       "0002_01          Earth      False  TRAPPIST-1e  24.0  False        109.0   \n",
       "0003_01         Europa      False  TRAPPIST-1e  58.0   True         43.0   \n",
       "0003_02         Europa      False  TRAPPIST-1e  33.0  False          0.0   \n",
       "0004_01          Earth      False  TRAPPIST-1e  16.0  False        303.0   \n",
       "\n",
       "             FoodCourt  ShoppingMall     Spa  VRDeck  \n",
       "PassengerId                                           \n",
       "0001_01            0.0           0.0     0.0     0.0  \n",
       "0002_01            9.0          25.0   549.0    44.0  \n",
       "0003_01         3576.0           0.0  6715.0    49.0  \n",
       "0003_02         1283.0         371.0  3329.0   193.0  \n",
       "0004_01           70.0         151.0   565.0     2.0  "
      ]
     },
     "execution_count": 3,
     "metadata": {},
     "output_type": "execute_result"
    }
   ],
   "source": [
    "train_X.HomePlanet.fillna('Earth', inplace = True) #Earth is the most common Home Planet \n",
    "train_X.CryoSleep.fillna(False, inplace = True) #if its Null then probably they aren,t CryoSleeping i think it would have been documented\n",
    "train_X.Destination.fillna('TRAPPIST-1e', inplace = True) #the most common destination\n",
    "train_X.Age.fillna(29, inplace = True) #mean value of all ages\n",
    "train_X.VIP.fillna(False, inplace = True) #nah they would be listed as vip probably if they were\n",
    "#all these nulls are replaced with 0 because 97% of passengers haven,t paid for luxury goods\n",
    "train_X.RoomService.fillna(0, inplace = True)\n",
    "train_X.FoodCourt.fillna(0, inplace = True)\n",
    "train_X.ShoppingMall.fillna(0, inplace = True)\n",
    "train_X.Spa.fillna(0, inplace = True)\n",
    "train_X.VRDeck.fillna(0, inplace = True)\n",
    "train_X.set_index('PassengerId',inplace = True)\n",
    "train_Y.set_index('PassengerId',inplace = True)\n",
    "print(train_X.isnull().sum())\n",
    "\n",
    "print(round(train_X.Age.mean().sum()))\n",
    "print(train_X.dtypes)\n",
    "train_X.head()"
   ]
  },
  {
   "cell_type": "code",
   "execution_count": 4,
   "id": "d54c8fd1",
   "metadata": {
    "execution": {
     "iopub.execute_input": "2022-12-06T20:09:17.709165Z",
     "iopub.status.busy": "2022-12-06T20:09:17.708810Z",
     "iopub.status.idle": "2022-12-06T20:09:17.744370Z",
     "shell.execute_reply": "2022-12-06T20:09:17.741746Z"
    },
    "papermill": {
     "duration": 0.044771,
     "end_time": "2022-12-06T20:09:17.747183",
     "exception": false,
     "start_time": "2022-12-06T20:09:17.702412",
     "status": "completed"
    },
    "tags": []
   },
   "outputs": [
    {
     "name": "stdout",
     "output_type": "stream",
     "text": [
      "HomePlanet      0\n",
      "CryoSleep       0\n",
      "Destination     0\n",
      "Age             0\n",
      "VIP             0\n",
      "RoomService     0\n",
      "FoodCourt       0\n",
      "ShoppingMall    0\n",
      "Spa             0\n",
      "VRDeck          0\n",
      "dtype: int64\n"
     ]
    },
    {
     "data": {
      "text/html": [
       "<div>\n",
       "<style scoped>\n",
       "    .dataframe tbody tr th:only-of-type {\n",
       "        vertical-align: middle;\n",
       "    }\n",
       "\n",
       "    .dataframe tbody tr th {\n",
       "        vertical-align: top;\n",
       "    }\n",
       "\n",
       "    .dataframe thead th {\n",
       "        text-align: right;\n",
       "    }\n",
       "</style>\n",
       "<table border=\"1\" class=\"dataframe\">\n",
       "  <thead>\n",
       "    <tr style=\"text-align: right;\">\n",
       "      <th></th>\n",
       "      <th>HomePlanet</th>\n",
       "      <th>CryoSleep</th>\n",
       "      <th>Cabin</th>\n",
       "      <th>Destination</th>\n",
       "      <th>Age</th>\n",
       "      <th>VIP</th>\n",
       "      <th>RoomService</th>\n",
       "      <th>FoodCourt</th>\n",
       "      <th>ShoppingMall</th>\n",
       "      <th>Spa</th>\n",
       "      <th>VRDeck</th>\n",
       "      <th>Name</th>\n",
       "    </tr>\n",
       "    <tr>\n",
       "      <th>PassengerId</th>\n",
       "      <th></th>\n",
       "      <th></th>\n",
       "      <th></th>\n",
       "      <th></th>\n",
       "      <th></th>\n",
       "      <th></th>\n",
       "      <th></th>\n",
       "      <th></th>\n",
       "      <th></th>\n",
       "      <th></th>\n",
       "      <th></th>\n",
       "      <th></th>\n",
       "    </tr>\n",
       "  </thead>\n",
       "  <tbody>\n",
       "    <tr>\n",
       "      <th>0013_01</th>\n",
       "      <td>Earth</td>\n",
       "      <td>True</td>\n",
       "      <td>G/3/S</td>\n",
       "      <td>TRAPPIST-1e</td>\n",
       "      <td>27.0</td>\n",
       "      <td>False</td>\n",
       "      <td>0.0</td>\n",
       "      <td>0.0</td>\n",
       "      <td>0.0</td>\n",
       "      <td>0.0</td>\n",
       "      <td>0.0</td>\n",
       "      <td>Nelly Carsoning</td>\n",
       "    </tr>\n",
       "    <tr>\n",
       "      <th>0018_01</th>\n",
       "      <td>Earth</td>\n",
       "      <td>False</td>\n",
       "      <td>F/4/S</td>\n",
       "      <td>TRAPPIST-1e</td>\n",
       "      <td>19.0</td>\n",
       "      <td>False</td>\n",
       "      <td>0.0</td>\n",
       "      <td>9.0</td>\n",
       "      <td>0.0</td>\n",
       "      <td>2823.0</td>\n",
       "      <td>0.0</td>\n",
       "      <td>Lerome Peckers</td>\n",
       "    </tr>\n",
       "    <tr>\n",
       "      <th>0019_01</th>\n",
       "      <td>Europa</td>\n",
       "      <td>True</td>\n",
       "      <td>C/0/S</td>\n",
       "      <td>55 Cancri e</td>\n",
       "      <td>31.0</td>\n",
       "      <td>False</td>\n",
       "      <td>0.0</td>\n",
       "      <td>0.0</td>\n",
       "      <td>0.0</td>\n",
       "      <td>0.0</td>\n",
       "      <td>0.0</td>\n",
       "      <td>Sabih Unhearfus</td>\n",
       "    </tr>\n",
       "    <tr>\n",
       "      <th>0021_01</th>\n",
       "      <td>Europa</td>\n",
       "      <td>False</td>\n",
       "      <td>C/1/S</td>\n",
       "      <td>TRAPPIST-1e</td>\n",
       "      <td>38.0</td>\n",
       "      <td>False</td>\n",
       "      <td>0.0</td>\n",
       "      <td>6652.0</td>\n",
       "      <td>0.0</td>\n",
       "      <td>181.0</td>\n",
       "      <td>585.0</td>\n",
       "      <td>Meratz Caltilter</td>\n",
       "    </tr>\n",
       "    <tr>\n",
       "      <th>0023_01</th>\n",
       "      <td>Earth</td>\n",
       "      <td>False</td>\n",
       "      <td>F/5/S</td>\n",
       "      <td>TRAPPIST-1e</td>\n",
       "      <td>20.0</td>\n",
       "      <td>False</td>\n",
       "      <td>10.0</td>\n",
       "      <td>0.0</td>\n",
       "      <td>635.0</td>\n",
       "      <td>0.0</td>\n",
       "      <td>0.0</td>\n",
       "      <td>Brence Harperez</td>\n",
       "    </tr>\n",
       "  </tbody>\n",
       "</table>\n",
       "</div>"
      ],
      "text/plain": [
       "            HomePlanet  CryoSleep  Cabin  Destination   Age    VIP  \\\n",
       "PassengerId                                                          \n",
       "0013_01          Earth       True  G/3/S  TRAPPIST-1e  27.0  False   \n",
       "0018_01          Earth      False  F/4/S  TRAPPIST-1e  19.0  False   \n",
       "0019_01         Europa       True  C/0/S  55 Cancri e  31.0  False   \n",
       "0021_01         Europa      False  C/1/S  TRAPPIST-1e  38.0  False   \n",
       "0023_01          Earth      False  F/5/S  TRAPPIST-1e  20.0  False   \n",
       "\n",
       "             RoomService  FoodCourt  ShoppingMall     Spa  VRDeck  \\\n",
       "PassengerId                                                         \n",
       "0013_01              0.0        0.0           0.0     0.0     0.0   \n",
       "0018_01              0.0        9.0           0.0  2823.0     0.0   \n",
       "0019_01              0.0        0.0           0.0     0.0     0.0   \n",
       "0021_01              0.0     6652.0           0.0   181.0   585.0   \n",
       "0023_01             10.0        0.0         635.0     0.0     0.0   \n",
       "\n",
       "                         Name  \n",
       "PassengerId                    \n",
       "0013_01       Nelly Carsoning  \n",
       "0018_01        Lerome Peckers  \n",
       "0019_01       Sabih Unhearfus  \n",
       "0021_01      Meratz Caltilter  \n",
       "0023_01       Brence Harperez  "
      ]
     },
     "execution_count": 4,
     "metadata": {},
     "output_type": "execute_result"
    }
   ],
   "source": [
    "test_full.HomePlanet.fillna('Earth', inplace = True) #Earth is the most common Home Planet \n",
    "test_full.CryoSleep.fillna(False, inplace = True) #if its Null then probably they aren,t CryoSleeping i think it would have been documented\n",
    "test_full.Destination.fillna('TRAPPIST-1e', inplace = True) #the most common destination\n",
    "test_full.Age.fillna(29, inplace = True) #mean value of all ages\n",
    "test_full.VIP.fillna(False, inplace = True) #nah they would be listed as vip probably if they were\n",
    "#all these nulls are replaced with 0 because 97% of passengers haven,t paid for luxury goods\n",
    "test_full.RoomService.fillna(0, inplace = True)\n",
    "test_full.FoodCourt.fillna(0, inplace = True)\n",
    "test_full.ShoppingMall.fillna(0, inplace = True)\n",
    "test_full.Spa.fillna(0, inplace = True)\n",
    "test_full.VRDeck.fillna(0, inplace = True)\n",
    "\n",
    "test_full.set_index('PassengerId',inplace = True)\n",
    "print(train_X.isnull().sum())\n",
    "\n",
    "test_full.head()"
   ]
  },
  {
   "cell_type": "code",
   "execution_count": 5,
   "id": "112aa693",
   "metadata": {
    "execution": {
     "iopub.execute_input": "2022-12-06T20:09:17.760103Z",
     "iopub.status.busy": "2022-12-06T20:09:17.759067Z",
     "iopub.status.idle": "2022-12-06T20:09:17.813443Z",
     "shell.execute_reply": "2022-12-06T20:09:17.811581Z"
    },
    "papermill": {
     "duration": 0.063407,
     "end_time": "2022-12-06T20:09:17.815869",
     "exception": false,
     "start_time": "2022-12-06T20:09:17.752462",
     "status": "completed"
    },
    "tags": []
   },
   "outputs": [],
   "source": [
    "#Better solution for encoding categorical data than pd.get_dummies\n",
    "import sklearn.preprocessing\n",
    "encoder = sklearn.preprocessing.OneHotEncoder(handle_unknown = 'ignore')\n",
    "\n",
    "from sklearn.pipeline import Pipeline\n",
    "categorical_processing = Pipeline(steps=[('encoder', encoder)])\n",
    "from sklearn.compose import ColumnTransformer\n",
    "\n",
    "# create the ColumnTransormer object\n",
    "All_categorical_preprocessing = ColumnTransformer(transformers=[('categorical', categorical_processing, ['HomePlanet', 'CryoSleep','Destination','VIP'])],remainder='passthrough')"
   ]
  },
  {
   "cell_type": "code",
   "execution_count": 6,
   "id": "3902af35",
   "metadata": {
    "execution": {
     "iopub.execute_input": "2022-12-06T20:09:17.827956Z",
     "iopub.status.busy": "2022-12-06T20:09:17.827522Z",
     "iopub.status.idle": "2022-12-06T20:09:17.913375Z",
     "shell.execute_reply": "2022-12-06T20:09:17.911765Z"
    },
    "papermill": {
     "duration": 0.095373,
     "end_time": "2022-12-06T20:09:17.916470",
     "exception": false,
     "start_time": "2022-12-06T20:09:17.821097",
     "status": "completed"
    },
    "tags": []
   },
   "outputs": [],
   "source": [
    "from sklearn.model_selection import train_test_split\n",
    "train_Y.Transported.replace([False, True],\n",
    "                        [0, 1], inplace=True)\n",
    "train_Y.head()\n",
    "train_X, val_X, train_Y, val_Y = train_test_split(train_X, train_Y, random_state=0)\n"
   ]
  },
  {
   "cell_type": "code",
   "execution_count": 7,
   "id": "d1c81865",
   "metadata": {
    "execution": {
     "iopub.execute_input": "2022-12-06T20:09:17.928594Z",
     "iopub.status.busy": "2022-12-06T20:09:17.928088Z",
     "iopub.status.idle": "2022-12-06T20:09:17.935566Z",
     "shell.execute_reply": "2022-12-06T20:09:17.934055Z"
    },
    "papermill": {
     "duration": 0.016421,
     "end_time": "2022-12-06T20:09:17.938110",
     "exception": false,
     "start_time": "2022-12-06T20:09:17.921689",
     "status": "completed"
    },
    "tags": []
   },
   "outputs": [
    {
     "name": "stdout",
     "output_type": "stream",
     "text": [
      "(6519, 10)\n",
      "(2174, 10)\n",
      "(6519, 1)\n",
      "(2174, 1)\n"
     ]
    }
   ],
   "source": [
    "print(train_X.shape)\n",
    "print(val_X.shape)\n",
    "print(train_Y.shape)\n",
    "print(val_Y.shape)"
   ]
  },
  {
   "cell_type": "code",
   "execution_count": 8,
   "id": "8ee0f176",
   "metadata": {
    "execution": {
     "iopub.execute_input": "2022-12-06T20:09:17.951191Z",
     "iopub.status.busy": "2022-12-06T20:09:17.950809Z",
     "iopub.status.idle": "2022-12-06T20:09:17.986104Z",
     "shell.execute_reply": "2022-12-06T20:09:17.984382Z"
    },
    "papermill": {
     "duration": 0.044874,
     "end_time": "2022-12-06T20:09:17.988402",
     "exception": false,
     "start_time": "2022-12-06T20:09:17.943528",
     "status": "completed"
    },
    "tags": []
   },
   "outputs": [
    {
     "name": "stdout",
     "output_type": "stream",
     "text": [
      "Number of features in training set: (6519, 16)\n",
      "Number of features in testing set: (4277, 16)\n"
     ]
    }
   ],
   "source": [
    "\n",
    "train_X = All_categorical_preprocessing.fit_transform(train_X)\n",
    "test_data =  All_categorical_preprocessing.transform(test_full)\n",
    "val_X =  All_categorical_preprocessing.fit_transform(val_X)\n",
    "\n",
    "\n",
    "print(f'Number of features in training set: {train_X.shape}')\n",
    "print(f'Number of features in testing set: {test_data.shape}')\n",
    "features = train_X.shape[1]"
   ]
  },
  {
   "cell_type": "code",
   "execution_count": 9,
   "id": "87c9ac1b",
   "metadata": {
    "execution": {
     "iopub.execute_input": "2022-12-06T20:09:18.001376Z",
     "iopub.status.busy": "2022-12-06T20:09:18.000894Z",
     "iopub.status.idle": "2022-12-06T20:09:18.008284Z",
     "shell.execute_reply": "2022-12-06T20:09:18.006519Z"
    },
    "papermill": {
     "duration": 0.017246,
     "end_time": "2022-12-06T20:09:18.010996",
     "exception": false,
     "start_time": "2022-12-06T20:09:17.993750",
     "status": "completed"
    },
    "tags": []
   },
   "outputs": [
    {
     "name": "stdout",
     "output_type": "stream",
     "text": [
      "[ 0.  0.  1.  0.  1.  0.  0.  1.  1.  0. 37.  0.  0.  0.  0.  0.]\n"
     ]
    }
   ],
   "source": [
    "print(train_X[0])"
   ]
  },
  {
   "cell_type": "code",
   "execution_count": 10,
   "id": "a08940d7",
   "metadata": {
    "execution": {
     "iopub.execute_input": "2022-12-06T20:09:18.025637Z",
     "iopub.status.busy": "2022-12-06T20:09:18.024964Z",
     "iopub.status.idle": "2022-12-06T20:09:25.391803Z",
     "shell.execute_reply": "2022-12-06T20:09:25.389333Z"
    },
    "papermill": {
     "duration": 7.378337,
     "end_time": "2022-12-06T20:09:25.394940",
     "exception": false,
     "start_time": "2022-12-06T20:09:18.016603",
     "status": "completed"
    },
    "tags": []
   },
   "outputs": [
    {
     "name": "stdout",
     "output_type": "stream",
     "text": [
      "Model: \"sequential\"\n",
      "_________________________________________________________________\n",
      "Layer (type)                 Output Shape              Param #   \n",
      "=================================================================\n",
      "dense (Dense)                (None, 512)               8704      \n",
      "_________________________________________________________________\n",
      "dense_1 (Dense)              (None, 256)               131328    \n",
      "_________________________________________________________________\n",
      "dense_2 (Dense)              (None, 1)                 257       \n",
      "=================================================================\n",
      "Total params: 140,289\n",
      "Trainable params: 140,289\n",
      "Non-trainable params: 0\n",
      "_________________________________________________________________\n"
     ]
    },
    {
     "name": "stderr",
     "output_type": "stream",
     "text": [
      "2022-12-06 20:09:25.302835: I tensorflow/core/common_runtime/process_util.cc:146] Creating new thread pool with default inter op setting: 2. Tune using inter_op_parallelism_threads for best performance.\n"
     ]
    }
   ],
   "source": [
    "import tensorflow as tf\n",
    "#normalizer = tf.keras.layers.Normalization(axis = -1)\n",
    "#normalizer.adapt(train_X)\n",
    "model = tf.keras.models.Sequential([\n",
    "    #normalizer,\n",
    "    tf.keras.layers.Dense(512,activation = 'relu', input_shape = [16]),\n",
    "    tf.keras.layers.Dense(256, activation = 'relu'),\n",
    "    tf.keras.layers.Dense(1, activation = 'sigmoid')\n",
    "])\n",
    "model.compile(optimizer = 'adam' , loss = 'BinaryCrossentropy', metrics = ['accuracy'])\n",
    "\n",
    "model.summary()"
   ]
  },
  {
   "cell_type": "code",
   "execution_count": 11,
   "id": "e6b7f2dc",
   "metadata": {
    "execution": {
     "iopub.execute_input": "2022-12-06T20:09:25.408394Z",
     "iopub.status.busy": "2022-12-06T20:09:25.407975Z",
     "iopub.status.idle": "2022-12-06T20:09:25.414425Z",
     "shell.execute_reply": "2022-12-06T20:09:25.413080Z"
    },
    "papermill": {
     "duration": 0.016324,
     "end_time": "2022-12-06T20:09:25.416848",
     "exception": false,
     "start_time": "2022-12-06T20:09:25.400524",
     "status": "completed"
    },
    "tags": []
   },
   "outputs": [],
   "source": [
    "early_stopping = tf.keras.callbacks.EarlyStopping(\n",
    "    patience=15,\n",
    "    min_delta=0.001,\n",
    "    restore_best_weights=True,\n",
    ")"
   ]
  },
  {
   "cell_type": "code",
   "execution_count": 12,
   "id": "84891e5e",
   "metadata": {
    "execution": {
     "iopub.execute_input": "2022-12-06T20:09:25.430464Z",
     "iopub.status.busy": "2022-12-06T20:09:25.429569Z",
     "iopub.status.idle": "2022-12-06T20:09:49.116426Z",
     "shell.execute_reply": "2022-12-06T20:09:49.114712Z"
    },
    "papermill": {
     "duration": 23.696663,
     "end_time": "2022-12-06T20:09:49.119240",
     "exception": false,
     "start_time": "2022-12-06T20:09:25.422577",
     "status": "completed"
    },
    "tags": []
   },
   "outputs": [
    {
     "name": "stderr",
     "output_type": "stream",
     "text": [
      "2022-12-06 20:09:25.521467: I tensorflow/compiler/mlir/mlir_graph_optimization_pass.cc:185] None of the MLIR Optimization Passes are enabled (registered 2)\n"
     ]
    },
    {
     "name": "stdout",
     "output_type": "stream",
     "text": [
      "Epoch 1/35\n",
      "163/163 [==============================] - 1s 5ms/step - loss: 9.8741 - accuracy: 0.7561 - val_loss: 4.5331 - val_accuracy: 0.7914\n",
      "Epoch 2/35\n",
      "163/163 [==============================] - 1s 4ms/step - loss: 2.5691 - accuracy: 0.7576 - val_loss: 1.9961 - val_accuracy: 0.7883\n",
      "Epoch 3/35\n",
      "163/163 [==============================] - 1s 4ms/step - loss: 1.8748 - accuracy: 0.7651 - val_loss: 1.5622 - val_accuracy: 0.7791\n",
      "Epoch 4/35\n",
      "163/163 [==============================] - 1s 4ms/step - loss: 1.4698 - accuracy: 0.7597 - val_loss: 1.4304 - val_accuracy: 0.7768\n",
      "Epoch 5/35\n",
      "163/163 [==============================] - 1s 4ms/step - loss: 0.9119 - accuracy: 0.7653 - val_loss: 1.3062 - val_accuracy: 0.7830\n",
      "Epoch 6/35\n",
      "163/163 [==============================] - 1s 4ms/step - loss: 0.7542 - accuracy: 0.7733 - val_loss: 0.6508 - val_accuracy: 0.7914\n",
      "Epoch 7/35\n",
      "163/163 [==============================] - 1s 4ms/step - loss: 0.6264 - accuracy: 0.7768 - val_loss: 0.5049 - val_accuracy: 0.7776\n",
      "Epoch 8/35\n",
      "163/163 [==============================] - 1s 4ms/step - loss: 0.5971 - accuracy: 0.7733 - val_loss: 0.5416 - val_accuracy: 0.7876\n",
      "Epoch 9/35\n",
      "163/163 [==============================] - 1s 4ms/step - loss: 0.4919 - accuracy: 0.7904 - val_loss: 0.5138 - val_accuracy: 0.7929\n",
      "Epoch 10/35\n",
      "163/163 [==============================] - 1s 4ms/step - loss: 0.4857 - accuracy: 0.7912 - val_loss: 0.4796 - val_accuracy: 0.7991\n",
      "Epoch 11/35\n",
      "163/163 [==============================] - 1s 4ms/step - loss: 0.4579 - accuracy: 0.7946 - val_loss: 0.4710 - val_accuracy: 0.7975\n",
      "Epoch 12/35\n",
      "163/163 [==============================] - 1s 4ms/step - loss: 0.4557 - accuracy: 0.7919 - val_loss: 0.4666 - val_accuracy: 0.7899\n",
      "Epoch 13/35\n",
      "163/163 [==============================] - 1s 4ms/step - loss: 0.4633 - accuracy: 0.7948 - val_loss: 0.4499 - val_accuracy: 0.7952\n",
      "Epoch 14/35\n",
      "163/163 [==============================] - 1s 4ms/step - loss: 0.4339 - accuracy: 0.7992 - val_loss: 0.4463 - val_accuracy: 0.7975\n",
      "Epoch 15/35\n",
      "163/163 [==============================] - 1s 4ms/step - loss: 0.4350 - accuracy: 0.7990 - val_loss: 0.4430 - val_accuracy: 0.7899\n",
      "Epoch 16/35\n",
      "163/163 [==============================] - 1s 4ms/step - loss: 0.4322 - accuracy: 0.8010 - val_loss: 0.4481 - val_accuracy: 0.7914\n",
      "Epoch 17/35\n",
      "163/163 [==============================] - 1s 4ms/step - loss: 0.4259 - accuracy: 0.7981 - val_loss: 0.4474 - val_accuracy: 0.7968\n",
      "Epoch 18/35\n",
      "163/163 [==============================] - 1s 4ms/step - loss: 0.4283 - accuracy: 0.8004 - val_loss: 0.4475 - val_accuracy: 0.7983\n",
      "Epoch 19/35\n",
      "163/163 [==============================] - 1s 4ms/step - loss: 0.4310 - accuracy: 0.8000 - val_loss: 0.4395 - val_accuracy: 0.7975\n",
      "Epoch 20/35\n",
      "163/163 [==============================] - 1s 4ms/step - loss: 0.4327 - accuracy: 0.7985 - val_loss: 0.4742 - val_accuracy: 0.7845\n",
      "Epoch 21/35\n",
      "163/163 [==============================] - 1s 4ms/step - loss: 0.4278 - accuracy: 0.7983 - val_loss: 0.4547 - val_accuracy: 0.7937\n",
      "Epoch 22/35\n",
      "163/163 [==============================] - 1s 4ms/step - loss: 0.4230 - accuracy: 0.8017 - val_loss: 0.4413 - val_accuracy: 0.7952\n",
      "Epoch 23/35\n",
      "163/163 [==============================] - 1s 4ms/step - loss: 0.4285 - accuracy: 0.8025 - val_loss: 0.4456 - val_accuracy: 0.7937\n",
      "Epoch 24/35\n",
      "163/163 [==============================] - 1s 4ms/step - loss: 0.4251 - accuracy: 0.8025 - val_loss: 0.4496 - val_accuracy: 0.7891\n",
      "Epoch 25/35\n",
      "163/163 [==============================] - 1s 4ms/step - loss: 0.4276 - accuracy: 0.8042 - val_loss: 0.4460 - val_accuracy: 0.7945\n",
      "Epoch 26/35\n",
      "163/163 [==============================] - 1s 4ms/step - loss: 0.4229 - accuracy: 0.8035 - val_loss: 0.4478 - val_accuracy: 0.7975\n",
      "Epoch 27/35\n",
      "163/163 [==============================] - 1s 4ms/step - loss: 0.4214 - accuracy: 0.8002 - val_loss: 0.4532 - val_accuracy: 0.8006\n",
      "Epoch 28/35\n",
      "163/163 [==============================] - 1s 5ms/step - loss: 0.4255 - accuracy: 0.8004 - val_loss: 0.4638 - val_accuracy: 0.7914\n",
      "Epoch 29/35\n",
      "163/163 [==============================] - 1s 4ms/step - loss: 0.4283 - accuracy: 0.8023 - val_loss: 0.4395 - val_accuracy: 0.7945\n",
      "Epoch 30/35\n",
      "163/163 [==============================] - 1s 4ms/step - loss: 0.4245 - accuracy: 0.8029 - val_loss: 0.4475 - val_accuracy: 0.7945\n",
      "Epoch 31/35\n",
      "163/163 [==============================] - 1s 4ms/step - loss: 0.4220 - accuracy: 0.8048 - val_loss: 0.4524 - val_accuracy: 0.7991\n",
      "Epoch 32/35\n",
      "163/163 [==============================] - 1s 4ms/step - loss: 0.4250 - accuracy: 0.8006 - val_loss: 0.4454 - val_accuracy: 0.7975\n",
      "Epoch 33/35\n",
      "163/163 [==============================] - 1s 5ms/step - loss: 0.4208 - accuracy: 0.8036 - val_loss: 0.4452 - val_accuracy: 0.7968\n",
      "Epoch 34/35\n",
      "163/163 [==============================] - 1s 5ms/step - loss: 0.4258 - accuracy: 0.8013 - val_loss: 0.4421 - val_accuracy: 0.7991\n"
     ]
    },
    {
     "data": {
      "text/plain": [
       "<keras.callbacks.History at 0x7f2c2eab1fd0>"
      ]
     },
     "execution_count": 12,
     "metadata": {},
     "output_type": "execute_result"
    }
   ],
   "source": [
    "model.fit(train_X, train_Y, validation_split = 0.2,  epochs= 35, callbacks=[early_stopping])"
   ]
  },
  {
   "cell_type": "code",
   "execution_count": 13,
   "id": "5cd2476e",
   "metadata": {
    "execution": {
     "iopub.execute_input": "2022-12-06T20:09:49.180038Z",
     "iopub.status.busy": "2022-12-06T20:09:49.179156Z",
     "iopub.status.idle": "2022-12-06T20:10:07.534324Z",
     "shell.execute_reply": "2022-12-06T20:10:07.533201Z"
    },
    "papermill": {
     "duration": 18.388319,
     "end_time": "2022-12-06T20:10:07.536784",
     "exception": false,
     "start_time": "2022-12-06T20:09:49.148465",
     "status": "completed"
    },
    "tags": []
   },
   "outputs": [
    {
     "name": "stdout",
     "output_type": "stream",
     "text": [
      "68/68 [==============================] - 0s 2ms/step - loss: 0.4502 - accuracy: 0.7962\n"
     ]
    },
    {
     "data": {
      "text/plain": [
       "[0.4501548707485199, 0.7962281703948975]"
      ]
     },
     "execution_count": 13,
     "metadata": {},
     "output_type": "execute_result"
    }
   ],
   "source": [
    "aa = model.predict(test_data)\n",
    "model.evaluate(val_X, val_Y)"
   ]
  },
  {
   "cell_type": "code",
   "execution_count": 14,
   "id": "39c7bfa2",
   "metadata": {
    "execution": {
     "iopub.execute_input": "2022-12-06T20:10:07.598950Z",
     "iopub.status.busy": "2022-12-06T20:10:07.598572Z",
     "iopub.status.idle": "2022-12-06T20:10:07.604594Z",
     "shell.execute_reply": "2022-12-06T20:10:07.603501Z"
    },
    "papermill": {
     "duration": 0.039563,
     "end_time": "2022-12-06T20:10:07.606507",
     "exception": false,
     "start_time": "2022-12-06T20:10:07.566944",
     "status": "completed"
    },
    "tags": []
   },
   "outputs": [
    {
     "name": "stdout",
     "output_type": "stream",
     "text": [
      "[0.6006521]\n"
     ]
    }
   ],
   "source": [
    "print(aa[0])"
   ]
  },
  {
   "cell_type": "code",
   "execution_count": 15,
   "id": "27ff4a30",
   "metadata": {
    "execution": {
     "iopub.execute_input": "2022-12-06T20:10:07.668063Z",
     "iopub.status.busy": "2022-12-06T20:10:07.667465Z",
     "iopub.status.idle": "2022-12-06T20:10:07.682070Z",
     "shell.execute_reply": "2022-12-06T20:10:07.680824Z"
    },
    "papermill": {
     "duration": 0.047098,
     "end_time": "2022-12-06T20:10:07.684101",
     "exception": false,
     "start_time": "2022-12-06T20:10:07.637003",
     "status": "completed"
    },
    "tags": []
   },
   "outputs": [
    {
     "data": {
      "text/html": [
       "<div>\n",
       "<style scoped>\n",
       "    .dataframe tbody tr th:only-of-type {\n",
       "        vertical-align: middle;\n",
       "    }\n",
       "\n",
       "    .dataframe tbody tr th {\n",
       "        vertical-align: top;\n",
       "    }\n",
       "\n",
       "    .dataframe thead th {\n",
       "        text-align: right;\n",
       "    }\n",
       "</style>\n",
       "<table border=\"1\" class=\"dataframe\">\n",
       "  <thead>\n",
       "    <tr style=\"text-align: right;\">\n",
       "      <th></th>\n",
       "      <th>PassengerId</th>\n",
       "      <th>Transported</th>\n",
       "    </tr>\n",
       "  </thead>\n",
       "  <tbody>\n",
       "    <tr>\n",
       "      <th>0</th>\n",
       "      <td>0013_01</td>\n",
       "      <td>True</td>\n",
       "    </tr>\n",
       "    <tr>\n",
       "      <th>1</th>\n",
       "      <td>0018_01</td>\n",
       "      <td>False</td>\n",
       "    </tr>\n",
       "    <tr>\n",
       "      <th>2</th>\n",
       "      <td>0019_01</td>\n",
       "      <td>True</td>\n",
       "    </tr>\n",
       "    <tr>\n",
       "      <th>3</th>\n",
       "      <td>0021_01</td>\n",
       "      <td>True</td>\n",
       "    </tr>\n",
       "    <tr>\n",
       "      <th>4</th>\n",
       "      <td>0023_01</td>\n",
       "      <td>True</td>\n",
       "    </tr>\n",
       "  </tbody>\n",
       "</table>\n",
       "</div>"
      ],
      "text/plain": [
       "  PassengerId  Transported\n",
       "0     0013_01         True\n",
       "1     0018_01        False\n",
       "2     0019_01         True\n",
       "3     0021_01         True\n",
       "4     0023_01         True"
      ]
     },
     "execution_count": 15,
     "metadata": {},
     "output_type": "execute_result"
    }
   ],
   "source": [
    "test_full['Transported'] = aa\n",
    "test_full.reset_index(inplace = True)\n",
    "test_full.Transported  = test_full.Transported.map(lambda b: True if (b > 0.5) else False )\n",
    "score = test_full.loc[:,['PassengerId','Transported']]\n",
    "score.head()"
   ]
  },
  {
   "cell_type": "code",
   "execution_count": 16,
   "id": "3cef06d8",
   "metadata": {
    "execution": {
     "iopub.execute_input": "2022-12-06T20:10:07.749439Z",
     "iopub.status.busy": "2022-12-06T20:10:07.748931Z",
     "iopub.status.idle": "2022-12-06T20:10:07.762133Z",
     "shell.execute_reply": "2022-12-06T20:10:07.760617Z"
    },
    "papermill": {
     "duration": 0.050994,
     "end_time": "2022-12-06T20:10:07.764951",
     "exception": false,
     "start_time": "2022-12-06T20:10:07.713957",
     "status": "completed"
    },
    "tags": []
   },
   "outputs": [],
   "source": [
    "output = score.to_csv('predictions2.csv', index = False)"
   ]
  }
 ],
 "metadata": {
  "kernelspec": {
   "display_name": "Python 3",
   "language": "python",
   "name": "python3"
  },
  "language_info": {
   "codemirror_mode": {
    "name": "ipython",
    "version": 3
   },
   "file_extension": ".py",
   "mimetype": "text/x-python",
   "name": "python",
   "nbconvert_exporter": "python",
   "pygments_lexer": "ipython3",
   "version": "3.7.12"
  },
  "papermill": {
   "default_parameters": {},
   "duration": 64.258817,
   "end_time": "2022-12-06T20:10:10.624439",
   "environment_variables": {},
   "exception": null,
   "input_path": "__notebook__.ipynb",
   "output_path": "__notebook__.ipynb",
   "parameters": {},
   "start_time": "2022-12-06T20:09:06.365622",
   "version": "2.3.4"
  }
 },
 "nbformat": 4,
 "nbformat_minor": 5
}
